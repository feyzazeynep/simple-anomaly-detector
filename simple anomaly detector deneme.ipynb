{
 "cells": [
  {
   "cell_type": "code",
   "execution_count": 1,
   "metadata": {},
   "outputs": [],
   "source": [
    "import matplotlib.pyplot as plt\n",
    "%matplotlib inline\n",
    "import pandas as pd\n",
    "import scipy.stats\n",
    "import numpy as np"
   ]
  },
  {
   "cell_type": "code",
   "execution_count": 2,
   "metadata": {},
   "outputs": [
    {
     "data": {
      "text/html": [
       "<div>\n",
       "<style scoped>\n",
       "    .dataframe tbody tr th:only-of-type {\n",
       "        vertical-align: middle;\n",
       "    }\n",
       "\n",
       "    .dataframe tbody tr th {\n",
       "        vertical-align: top;\n",
       "    }\n",
       "\n",
       "    .dataframe thead th {\n",
       "        text-align: right;\n",
       "    }\n",
       "</style>\n",
       "<table border=\"1\" class=\"dataframe\">\n",
       "  <thead>\n",
       "    <tr style=\"text-align: right;\">\n",
       "      <th></th>\n",
       "      <th>vibration</th>\n",
       "      <th>heat</th>\n",
       "    </tr>\n",
       "  </thead>\n",
       "  <tbody>\n",
       "    <tr>\n",
       "      <th>0</th>\n",
       "      <td>56</td>\n",
       "      <td>47</td>\n",
       "    </tr>\n",
       "    <tr>\n",
       "      <th>1</th>\n",
       "      <td>59</td>\n",
       "      <td>61</td>\n",
       "    </tr>\n",
       "    <tr>\n",
       "      <th>2</th>\n",
       "      <td>52</td>\n",
       "      <td>52</td>\n",
       "    </tr>\n",
       "    <tr>\n",
       "      <th>3</th>\n",
       "      <td>49</td>\n",
       "      <td>41</td>\n",
       "    </tr>\n",
       "    <tr>\n",
       "      <th>4</th>\n",
       "      <td>49</td>\n",
       "      <td>49</td>\n",
       "    </tr>\n",
       "    <tr>\n",
       "      <th>5</th>\n",
       "      <td>51</td>\n",
       "      <td>49</td>\n",
       "    </tr>\n",
       "    <tr>\n",
       "      <th>6</th>\n",
       "      <td>48</td>\n",
       "      <td>56</td>\n",
       "    </tr>\n",
       "    <tr>\n",
       "      <th>7</th>\n",
       "      <td>50</td>\n",
       "      <td>46</td>\n",
       "    </tr>\n",
       "    <tr>\n",
       "      <th>8</th>\n",
       "      <td>53</td>\n",
       "      <td>60</td>\n",
       "    </tr>\n",
       "    <tr>\n",
       "      <th>9</th>\n",
       "      <td>44</td>\n",
       "      <td>51</td>\n",
       "    </tr>\n",
       "  </tbody>\n",
       "</table>\n",
       "</div>"
      ],
      "text/plain": [
       "   vibration  heat\n",
       "0         56    47\n",
       "1         59    61\n",
       "2         52    52\n",
       "3         49    41\n",
       "4         49    49\n",
       "5         51    49\n",
       "6         48    56\n",
       "7         50    46\n",
       "8         53    60\n",
       "9         44    51"
      ]
     },
     "execution_count": 2,
     "metadata": {},
     "output_type": "execute_result"
    }
   ],
   "source": [
    "data = {\n",
    "    \"vibration\":[56,59,52,49,49,51,48,50,53,44],\n",
    "    \"heat\":[47,61,52,41,49,49,56,46,60,51]\n",
    "}\n",
    "df = pd.DataFrame(data)\n",
    "df"
   ]
  },
  {
   "cell_type": "code",
   "execution_count": 3,
   "metadata": {},
   "outputs": [
    {
     "data": {
      "text/plain": [
       "<matplotlib.axes._subplots.AxesSubplot at 0x1bc977c5898>"
      ]
     },
     "execution_count": 3,
     "metadata": {},
     "output_type": "execute_result"
    },
    {
     "data": {
      "image/png": "[encoded data removed]",
      "text/plain": [
       "<Figure size 432x288 with 1 Axes>"
      ]
     },
     "metadata": {
      "needs_background": "light"
     },
     "output_type": "display_data"
    }
   ],
   "source": [
    "df.plot.scatter('vibration','heat')"
   ]
  },
  {
   "cell_type": "code",
   "execution_count": 4,
   "metadata": {},
   "outputs": [],
   "source": [
    "def simple_anomaly_detector(df, test_value):\n",
    "    means = df.mean()\n",
    "    stds = df.std()\n",
    "    \n",
    "    probability = 1\n",
    "    for m,s,v in zip(means, stds, test_value):\n",
    "        probability = probability * scipy.stats.norm(m, s).pdf(v)\n",
    "    \n",
    "    return probability, probability < np.power(0.05, len(test_value))"
   ]
  },
  {
   "cell_type": "code",
   "execution_count": 5,
   "metadata": {},
   "outputs": [
    {
     "data": {
      "text/plain": [
       "array([[[ 1,  2],\n",
       "        [ 3,  4]],\n",
       "\n",
       "       [[ 2,  2],\n",
       "        [ 2,  2]],\n",
       "\n",
       "       [[ 1,  1],\n",
       "        [ 1,  1]],\n",
       "\n",
       "       [[10, 10],\n",
       "        [10, 10]],\n",
       "\n",
       "       [[ 1,  1],\n",
       "        [ 1,  1]],\n",
       "\n",
       "       [[ 2,  2],\n",
       "        [ 2,  2]],\n",
       "\n",
       "       [[ 1,  1],\n",
       "        [ 1,  1]],\n",
       "\n",
       "       [[ 4,  3],\n",
       "        [ 2,  1]]])"
      ]
     },
     "execution_count": 5,
     "metadata": {},
     "output_type": "execute_result"
    }
   ],
   "source": [
    "data = np.array([[[1,2],[3,4]],\n",
    "          [[2,2],[2,2]],\n",
    "          [[1,1],[1,1]],\n",
    "          [[10,10],[10,10]],\n",
    "          [[1,1],[1,1]],\n",
    "          [[2,2],[2,2]],\n",
    "          [[1,1],[1,1]],\n",
    "          [[4,3],[2,1]]\n",
    "         ])\n",
    "data"
   ]
  },
  {
   "cell_type": "code",
   "execution_count": 6,
   "metadata": {},
   "outputs": [
    {
     "data": {
      "text/plain": [
       "(4.926620102214167e-31, True)"
      ]
     },
     "execution_count": 6,
     "metadata": {},
     "output_type": "execute_result"
    }
   ],
   "source": [
    "simple_anomaly_detector(df, [2])"
   ]
  },
  {
   "cell_type": "code",
   "execution_count": 7,
   "metadata": {},
   "outputs": [],
   "source": [
    "data = data.flatten().reshape(data.shape[0], data.shape[1] * data.shape[2])"
   ]
  },
  {
   "cell_type": "code",
   "execution_count": 8,
   "metadata": {},
   "outputs": [
    {
     "data": {
      "text/plain": [
       "array([[ 1,  2,  3,  4],\n",
       "       [ 2,  2,  2,  2],\n",
       "       [ 1,  1,  1,  1],\n",
       "       [10, 10, 10, 10],\n",
       "       [ 1,  1,  1,  1],\n",
       "       [ 2,  2,  2,  2],\n",
       "       [ 1,  1,  1,  1],\n",
       "       [ 4,  3,  2,  1]])"
      ]
     },
     "execution_count": 8,
     "metadata": {},
     "output_type": "execute_result"
    }
   ],
   "source": [
    "data"
   ]
  },
  {
   "cell_type": "code",
   "execution_count": 9,
   "metadata": {},
   "outputs": [
    {
     "data": {
      "text/html": [
       "<div>\n",
       "<style scoped>\n",
       "    .dataframe tbody tr th:only-of-type {\n",
       "        vertical-align: middle;\n",
       "    }\n",
       "\n",
       "    .dataframe tbody tr th {\n",
       "        vertical-align: top;\n",
       "    }\n",
       "\n",
       "    .dataframe thead th {\n",
       "        text-align: right;\n",
       "    }\n",
       "</style>\n",
       "<table border=\"1\" class=\"dataframe\">\n",
       "  <thead>\n",
       "    <tr style=\"text-align: right;\">\n",
       "      <th></th>\n",
       "      <th>0</th>\n",
       "      <th>1</th>\n",
       "      <th>2</th>\n",
       "      <th>3</th>\n",
       "    </tr>\n",
       "  </thead>\n",
       "  <tbody>\n",
       "    <tr>\n",
       "      <th>0</th>\n",
       "      <td>1</td>\n",
       "      <td>2</td>\n",
       "      <td>3</td>\n",
       "      <td>4</td>\n",
       "    </tr>\n",
       "    <tr>\n",
       "      <th>1</th>\n",
       "      <td>2</td>\n",
       "      <td>2</td>\n",
       "      <td>2</td>\n",
       "      <td>2</td>\n",
       "    </tr>\n",
       "    <tr>\n",
       "      <th>2</th>\n",
       "      <td>1</td>\n",
       "      <td>1</td>\n",
       "      <td>1</td>\n",
       "      <td>1</td>\n",
       "    </tr>\n",
       "    <tr>\n",
       "      <th>3</th>\n",
       "      <td>10</td>\n",
       "      <td>10</td>\n",
       "      <td>10</td>\n",
       "      <td>10</td>\n",
       "    </tr>\n",
       "    <tr>\n",
       "      <th>4</th>\n",
       "      <td>1</td>\n",
       "      <td>1</td>\n",
       "      <td>1</td>\n",
       "      <td>1</td>\n",
       "    </tr>\n",
       "    <tr>\n",
       "      <th>5</th>\n",
       "      <td>2</td>\n",
       "      <td>2</td>\n",
       "      <td>2</td>\n",
       "      <td>2</td>\n",
       "    </tr>\n",
       "    <tr>\n",
       "      <th>6</th>\n",
       "      <td>1</td>\n",
       "      <td>1</td>\n",
       "      <td>1</td>\n",
       "      <td>1</td>\n",
       "    </tr>\n",
       "    <tr>\n",
       "      <th>7</th>\n",
       "      <td>4</td>\n",
       "      <td>3</td>\n",
       "      <td>2</td>\n",
       "      <td>1</td>\n",
       "    </tr>\n",
       "  </tbody>\n",
       "</table>\n",
       "</div>"
      ],
      "text/plain": [
       "    0   1   2   3\n",
       "0   1   2   3   4\n",
       "1   2   2   2   2\n",
       "2   1   1   1   1\n",
       "3  10  10  10  10\n",
       "4   1   1   1   1\n",
       "5   2   2   2   2\n",
       "6   1   1   1   1\n",
       "7   4   3   2   1"
      ]
     },
     "execution_count": 9,
     "metadata": {},
     "output_type": "execute_result"
    }
   ],
   "source": [
    "df = pd.DataFrame(data)\n",
    "df"
   ]
  },
  {
   "cell_type": "code",
   "execution_count": 10,
   "metadata": {},
   "outputs": [
    {
     "data": {
      "text/plain": [
       "(0.00015038793692594921, False)"
      ]
     },
     "execution_count": 10,
     "metadata": {},
     "output_type": "execute_result"
    }
   ],
   "source": [
    "simple_anomaly_detector(df, [1,1,1,1])"
   ]
  },
  {
   "cell_type": "code",
   "execution_count": 11,
   "metadata": {},
   "outputs": [
    {
     "data": {
      "text/plain": [
       "(0.0, True)"
      ]
     },
     "execution_count": 11,
     "metadata": {},
     "output_type": "execute_result"
    }
   ],
   "source": [
    "simple_anomaly_detector(df, [100,100,1,1])"
   ]
  },
  {
   "cell_type": "code",
   "execution_count": 13,
   "metadata": {},
   "outputs": [
    {
     "data": {
      "text/plain": [
       "0    2.75\n",
       "1    2.75\n",
       "2    2.75\n",
       "3    2.75\n",
       "dtype: float64"
      ]
     },
     "execution_count": 13,
     "metadata": {},
     "output_type": "execute_result"
    }
   ],
   "source": [
    "df.mean()"
   ]
  },
  {
   "cell_type": "code",
   "execution_count": 14,
   "metadata": {},
   "outputs": [
    {
     "data": {
      "text/plain": [
       "0    3.105295\n",
       "1    3.011881\n",
       "2    3.011881\n",
       "3    3.105295\n",
       "dtype: float64"
      ]
     },
     "execution_count": 14,
     "metadata": {},
     "output_type": "execute_result"
    }
   ],
   "source": [
    "df.std()"
   ]
  },
  {
   "cell_type": "code",
   "execution_count": 15,
   "metadata": {},
   "outputs": [
    {
     "name": "stderr",
     "output_type": "stream",
     "text": [
      "C:\\Users\\DELL\\Anaconda3\\lib\\site-packages\\ipykernel_launcher.py:5: MatplotlibDeprecationWarning: scipy.stats.norm.pdf\n",
      "  \"\"\"\n"
     ]
    },
    {
     "data": {
      "text/plain": [
       "[<matplotlib.lines.Line2D at 0x1bc97bde2e8>]"
      ]
     },
     "execution_count": 15,
     "metadata": {},
     "output_type": "execute_result"
    },
    {
     "data": {
      "image/png": "[encoded data removed]",
      "text/plain": [
       "<Figure size 432x288 with 1 Axes>"
      ]
     },
     "metadata": {
      "needs_background": "light"
     },
     "output_type": "display_data"
    }
   ],
   "source": [
    "import matplotlib.mlab as mlab\n",
    "mu = df.mean()[0]\n",
    "sigma = df.std()[0]\n",
    "x = np.linspace(mu - 3*sigma, mu + 3*sigma, 100)\n",
    "plt.plot(x,mlab.normpdf(x, mu, sigma))"
   ]
  },
  {
   "cell_type": "code",
   "execution_count": 16,
   "metadata": {},
   "outputs": [
    {
     "data": {
      "text/plain": [
       "(3.918951433182429e-05, False)"
      ]
     },
     "execution_count": 16,
     "metadata": {},
     "output_type": "execute_result"
    }
   ],
   "source": [
    "simple_anomaly_detector(df, [mu - 2*sigma,mu,mu,mu])"
   ]
  },
  {
   "cell_type": "code",
   "execution_count": 17,
   "metadata": {},
   "outputs": [
    {
     "data": {
      "text/plain": [
       "(array([ 1.,  0.,  0.,  0.,  0.,  0.,  0.,  0.,  0.,  0.,  0.,  0.,  0.,\n",
       "         0.,  0.,  0.,  0.,  0.,  0.,  1.,  0.,  0.,  0.,  0.,  0.,  0.,\n",
       "         0.,  0.,  0.,  0.,  0.,  0.,  0.,  0.,  0.,  0.,  1.,  0.,  0.,\n",
       "         0.,  0.,  0.,  0.,  0.,  0.,  0.,  0.,  0.,  0.,  0.,  0.,  0.,\n",
       "         0.,  1.,  0.,  1.,  0.,  0.,  1.,  0.,  0.,  0.,  0.,  0.,  0.,\n",
       "         0.,  0.,  0.,  1.,  0.,  0.,  0.,  0.,  0.,  0.,  0.,  1.,  0.,\n",
       "         0.,  0.,  0.,  1.,  0.,  0.,  1.,  1.,  0.,  0.,  0.,  1.,  0.,\n",
       "         0.,  0.,  0.,  0.,  0.,  0.,  1.,  1.,  0.,  0.,  1.,  2.,  1.,\n",
       "         0.,  0.,  0.,  0.,  0.,  0.,  2.,  1.,  0.,  1.,  0.,  0.,  0.,\n",
       "         1.,  1.,  0.,  0.,  0.,  0.,  1.,  0.,  0.,  0.,  0.,  0.,  1.,\n",
       "         0.,  3.,  0.,  0.,  0.,  1.,  0.,  0.,  0.,  2.,  1.,  2.,  0.,\n",
       "         1.,  1.,  1.,  0.,  1.,  2.,  1.,  4.,  2.,  0.,  2.,  1.,  1.,\n",
       "         1.,  3.,  1.,  0.,  0.,  1.,  0.,  1.,  0.,  0.,  3.,  1.,  3.,\n",
       "         0.,  1.,  1.,  1.,  0.,  2.,  2.,  3.,  2.,  0.,  1.,  3.,  2.,\n",
       "         1.,  1.,  0.,  6.,  1.,  2.,  1.,  5.,  3.,  1.,  1.,  6.,  3.,\n",
       "         3.,  1.,  3.,  4.,  5.,  4.,  2.,  1.,  3.,  5.,  3.,  3.,  1.,\n",
       "         4.,  6.,  1.,  2.,  2.,  2.,  1.,  0.,  3.,  1.,  4.,  8.,  4.,\n",
       "         1.,  3.,  5.,  1.,  1.,  1.,  2.,  3.,  3.,  3.,  3.,  1.,  3.,\n",
       "         2.,  3.,  5.,  4.,  8.,  4.,  3.,  2.,  7.,  2.,  5.,  5.,  3.,\n",
       "         5.,  3.,  5.,  3.,  6.,  4.,  2.,  2.,  7.,  4.,  4.,  2.,  4.,\n",
       "         6.,  5.,  4.,  4.,  5.,  3.,  7.,  4.,  6.,  5.,  5.,  7.,  6.,\n",
       "         6.,  4.,  4.,  5.,  9., 11.,  7.,  6.,  9.,  9., 14.,  7.,  3.,\n",
       "        13.,  8., 13.,  8.,  6.,  8.,  4.,  6.,  4.,  7.,  4.,  9.,  4.,\n",
       "         7., 16.,  4.,  5.,  7.,  8.,  9., 12., 10.,  7., 11.,  8., 13.,\n",
       "        12., 10., 12., 11.,  9.,  9., 12., 13., 14., 12., 10.,  8., 13.,\n",
       "        11., 12., 16., 16., 12., 13., 13.,  8., 11., 18., 14., 19., 11.,\n",
       "        12., 11., 15., 12., 23.,  7., 10.,  8., 15., 16.,  9., 17., 14.,\n",
       "        12., 16., 14.,  9., 14., 18., 13., 12., 11., 12., 14., 15., 17.,\n",
       "        13., 15., 15., 21., 16., 16., 22., 10., 16., 16., 17., 24., 18.,\n",
       "        19., 14., 21., 15., 20., 14., 19., 19., 23., 21., 16., 22., 16.,\n",
       "        19., 20., 13., 21., 19., 17., 12., 28., 25., 17., 23., 24., 14.,\n",
       "        20., 20., 17., 18., 16., 14., 20., 24., 14., 14., 28., 19., 22.,\n",
       "        22., 27., 20., 23., 28., 20., 27., 23., 23., 21., 22., 31., 31.,\n",
       "        31., 30., 23., 21., 20., 32., 26., 20., 45., 26., 29., 31., 32.,\n",
       "        22., 17., 18., 19., 29., 30., 25., 20., 30., 27., 21., 30., 28.,\n",
       "        30., 35., 25., 23., 28., 21., 24., 37., 20., 25., 39., 30., 20.,\n",
       "        39., 30., 28., 31., 22., 29., 23., 22., 26., 24., 36., 30., 33.,\n",
       "        36., 25., 22., 34., 30., 25., 23., 27., 29., 39., 36., 33., 37.,\n",
       "        28., 26., 22., 31., 37., 22., 34., 29., 31., 40., 30., 36., 28.,\n",
       "        29., 22., 31., 32., 26., 34., 28., 15., 24., 18., 31., 24., 27.,\n",
       "        27., 38., 26., 34., 26., 37., 26., 28., 28., 26., 31., 28., 33.,\n",
       "        25., 21., 29., 20., 29., 26., 22., 41., 24., 37., 27., 32., 24.,\n",
       "        22., 33., 29., 27., 26., 26., 23., 24., 34., 35., 14., 27., 31.,\n",
       "        36., 25., 20., 24., 34., 26., 32., 20., 23., 20., 28., 16., 18.,\n",
       "        26., 46., 31., 32., 40., 31., 20., 25., 37., 21., 21., 28., 30.,\n",
       "        31., 19., 31., 17., 27., 42., 33., 17., 20., 22., 20., 28., 22.,\n",
       "        34., 21., 18., 28., 28., 25., 27., 24., 26., 26., 25., 29., 23.,\n",
       "        27., 25., 16., 20., 24., 28., 14., 21., 22., 22., 12., 17., 14.,\n",
       "        19., 24., 25., 24., 18., 22., 27., 16., 24., 22., 19., 20., 24.,\n",
       "        21., 21., 19., 16., 14., 24., 15., 16., 17., 30., 15., 22., 17.,\n",
       "        20., 19., 12., 11., 19., 18.,  9., 14., 14., 17., 16., 17., 11.,\n",
       "        25., 18., 15., 12.,  8., 16., 17., 11., 17., 16., 19., 22.,  9.,\n",
       "        13., 11., 13., 14., 12., 12., 19., 17., 12., 10., 17., 10.,  7.,\n",
       "         8., 12., 14., 17., 10.,  5., 13., 10., 18., 12., 14., 14.,  8.,\n",
       "         6.,  8., 10., 14., 11., 13., 15., 12.,  9., 17., 20., 12.,  6.,\n",
       "         8.,  7.,  5., 10.,  5., 10.,  4., 10.,  9.,  8., 10.,  3.,  7.,\n",
       "         6.,  6.,  5., 10.,  2.,  7.,  6.,  6., 11.,  8.,  5.,  7.,  6.,\n",
       "         5.,  6.,  8.,  7.,  8.,  2., 11.,  9.,  8.,  5., 11.,  9.,  7.,\n",
       "         8.,  5.,  6.,  8.,  4.,  5., 10.,  5.,  8.,  8.,  2.,  9.,  6.,\n",
       "         3.,  6.,  4.,  9.,  5.,  4.,  3.,  3.,  2.,  6.,  4.,  5.,  3.,\n",
       "         3.,  3.,  2.,  4.,  8.,  6.,  5.,  1.,  4.,  0.,  0.,  3.,  2.,\n",
       "         1.,  1.,  7.,  6.,  5.,  4.,  1.,  2.,  4.,  2.,  6.,  1.,  3.,\n",
       "         6.,  4.,  1.,  3.,  3.,  1.,  1.,  4.,  5.,  2.,  1.,  2.,  1.,\n",
       "         4.,  2.,  2.,  1.,  4.,  3.,  7.,  1.,  1.,  3.,  2.,  0.,  3.,\n",
       "         2.,  1.,  2.,  2.,  2.,  2.,  1.,  2.,  3.,  4.,  4.,  2.,  2.,\n",
       "         3.,  2.,  1.,  3.,  1.,  3.,  1.,  1.,  3.,  1.,  5.,  2.,  2.,\n",
       "         0.,  1.,  1.,  1.,  1.,  1.,  2.,  0.,  0.,  0.,  0.,  1.,  1.,\n",
       "         0.,  1.,  1.,  1.,  0.,  2.,  1.,  0.,  1.,  1.,  0.,  1.,  0.,\n",
       "         0.,  1.,  2.,  3.,  1.,  0.,  1.,  1.,  0.,  0.,  1.,  1.,  0.,\n",
       "         1.,  0.,  0.,  0.,  0.,  0.,  1.,  0.,  0.,  0.,  1.,  0.,  0.,\n",
       "         1.,  2.,  1.,  0.,  1.,  1.,  0.,  2.,  0.,  0.,  0.,  0.,  0.,\n",
       "         0.,  0.,  1.,  0.,  0.,  0.,  1.,  0.,  0.,  0.,  0.,  0.,  0.,\n",
       "         0.,  1.,  0.,  1.,  0.,  0.,  1.,  1.,  0.,  0.,  0.,  0.,  0.,\n",
       "         0.,  0.,  0.,  0.,  0.,  0.,  1.,  2.,  0.,  0.,  0.,  0.,  0.,\n",
       "         0.,  0.,  1.,  1.,  1.,  0.,  0.,  0.,  0.,  0.,  0.,  0.,  0.,\n",
       "         0.,  0.,  0.,  0.,  0.,  1.,  0.,  0.,  0.,  0.,  0.,  0.,  1.,\n",
       "         0.,  0.,  0.,  0.,  0.,  1.,  0.,  0.,  0.,  0.,  0.,  1.]),\n",
       " array([82.4054307 , 82.4201814 , 82.43493209, ..., 97.12662247,\n",
       "        97.14137316, 97.15612386]),\n",
       " <a list of 1000 Patch objects>)"
      ]
     },
     "execution_count": 17,
     "metadata": {},
     "output_type": "execute_result"
    },
    {
     "data": {
      "image/png": "[encoded data removed]",
      "text/plain": [
       "<Figure size 432x288 with 1 Axes>"
      ]
     },
     "metadata": {
      "needs_background": "light"
     },
     "output_type": "display_data"
    }
   ],
   "source": [
    "values= np.random.normal(90,2, 10000)\n",
    "plt.hist(values,bins=1000)"
   ]
  },
  {
   "cell_type": "code",
   "execution_count": null,
   "metadata": {},
   "outputs": [],
   "source": []
  }
 ],
 "metadata": {
  "kernelspec": {
   "display_name": "Python 3",
   "language": "python",
   "name": "python3"
  },
  "language_info": {
   "codemirror_mode": {
    "name": "ipython",
    "version": 3
   },
   "file_extension": ".py",
   "mimetype": "text/x-python",
   "name": "python",
   "nbconvert_exporter": "python",
   "pygments_lexer": "ipython3",
   "version": "3.6.8"
  }
 },
 "nbformat": 4,
 "nbformat_minor": 2
}
